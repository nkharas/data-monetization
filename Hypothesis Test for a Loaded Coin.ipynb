{
 "cells": [
  {
   "cell_type": "markdown",
   "id": "23cd0ab1",
   "metadata": {},
   "source": [
    "References"
   ]
  },
  {
   "cell_type": "markdown",
   "id": "99f7f3b6",
   "metadata": {},
   "source": [
    "Test sizing - https://sphweb.bumc.bu.edu/otlt/mph-modules/bs/bs704_power/bs704_power_print.html\n",
    "\n",
    "Hypothesis testing - https://www.statsmodels.org/devel/generated/statsmodels.stats.proportion.proportions_ztest.html"
   ]
  },
  {
   "cell_type": "markdown",
   "id": "f5e9828d",
   "metadata": {},
   "source": [
    "Import packages and set random seed"
   ]
  },
  {
   "cell_type": "code",
   "execution_count": 1,
   "id": "0a0e0571",
   "metadata": {},
   "outputs": [],
   "source": [
    "import math\n",
    "from random import randrange, seed\n",
    "\n",
    "seed(5)"
   ]
  },
  {
   "cell_type": "markdown",
   "id": "7f2aaaaf",
   "metadata": {},
   "source": [
    "Function to simulate tossing a loaded coin, which lands on heads more often than usual"
   ]
  },
  {
   "cell_type": "code",
   "execution_count": 2,
   "id": "a972a4f4",
   "metadata": {},
   "outputs": [],
   "source": [
    "def loaded_coin_toss_simulator():\n",
    "    seed = 4\n",
    "    toss = randrange(2, 10)/10\n",
    "    if toss >= 0.5:\n",
    "        return 1\n",
    "    else:\n",
    "        return 0"
   ]
  },
  {
   "cell_type": "markdown",
   "id": "09db767c",
   "metadata": {},
   "source": [
    "As a first step, we run a few trials to understand what is the probability of heads when tossing a loaded coin. \n",
    "\n",
    "Ideally, the probability should be 0.5\n",
    "\n",
    "However, if the coin lands on heads more often, then the probability will be higher than 0.5"
   ]
  },
  {
   "cell_type": "code",
   "execution_count": 3,
   "id": "3eee7cd3",
   "metadata": {},
   "outputs": [
    {
     "name": "stdout",
     "output_type": "stream",
     "text": [
      "Results of trial\n",
      "[1, 1, 0, 1, 1, 0, 0, 0, 1, 1, 1, 1, 0, 1, 0, 1, 1, 1, 0, 1, 0, 0, 0, 1, 0, 0, 0, 0, 1, 1, 0, 0, 1, 1, 1, 1, 0, 1, 1, 1, 0, 1, 1, 0, 0, 1, 0, 1, 1, 0, 1, 0, 1, 1, 1, 1, 1, 0, 1, 1, 0, 0, 1, 0, 1, 1, 0, 1, 1, 1, 0, 1, 0, 0, 1]\n"
     ]
    }
   ],
   "source": [
    "tosses = []\n",
    "\n",
    "for i in range(75):\n",
    "    tosses.append(loaded_coin_toss_simulator())\n",
    "\n",
    "print(\"Results of trial\")\n",
    "print(tosses)"
   ]
  },
  {
   "cell_type": "markdown",
   "id": "20445d30",
   "metadata": {},
   "source": [
    "In the above trial, we toss a coin 75 times to see how many heads we get. "
   ]
  },
  {
   "cell_type": "code",
   "execution_count": 4,
   "id": "35fecf13",
   "metadata": {},
   "outputs": [
    {
     "name": "stdout",
     "output_type": "stream",
     "text": [
      "The probability of this coin toss landing on heads is : \n",
      "0.5866666666666667\n"
     ]
    }
   ],
   "source": [
    "import numpy as np\n",
    "\n",
    "average = np.mean(tosses)\n",
    "\n",
    "print(\"The probability of this coin toss landing on heads is : \")\n",
    "print(average)\n",
    "\n",
    "p_test = average"
   ]
  },
  {
   "cell_type": "markdown",
   "id": "315ac80c",
   "metadata": {},
   "source": [
    "This is above 0.5\n",
    "\n",
    "My hypothesis is that the coin is not fair, it's loaded.\n",
    "\n",
    "Can this be a random occurrence?\n",
    "\n",
    "Are 75 coin tosses sufficient to conclude that the coin is loaded?\n",
    "\n",
    "We need to test.\n",
    "\n",
    "Alternate hypothesis:\n",
    "p(heads) > 0.5\n",
    "\n",
    "Null Hypothesis:\n",
    "p(heads) = 0.5\n",
    "\n",
    "Our test is a one sided hypothesis test with one sample binary outcome"
   ]
  },
  {
   "cell_type": "code",
   "execution_count": 5,
   "id": "63dcabee",
   "metadata": {},
   "outputs": [],
   "source": [
    "# Test sizing - https://sphweb.bumc.bu.edu/otlt/mph-modules/bs/bs704_power/bs704_power_print.html\n",
    "\n",
    "def sample_size(p1, p0, z_alpha=1.645, z_beta=0.84):\n",
    "    es = (p1 - p0) / math.sqrt(p0 * (1 - p0))\n",
    "    sample = pow(((z_alpha + z_beta)/es), 2)\n",
    "    return sample"
   ]
  },
  {
   "cell_type": "code",
   "execution_count": 6,
   "id": "cc78c3f7",
   "metadata": {
    "scrolled": true
   },
   "outputs": [
    {
     "name": "stdout",
     "output_type": "stream",
     "text": [
      "Number of coin tosses needed to guarantee statistically significant result at 95% significance and 80% power\n",
      "206\n"
     ]
    }
   ],
   "source": [
    "print(\"Number of coin tosses needed to guarantee statistically significant result at 95% significance and 80% power\")\n",
    "print(round(sample_size(p_test, 0.5)))"
   ]
  },
  {
   "cell_type": "code",
   "execution_count": 7,
   "id": "bd594d21",
   "metadata": {},
   "outputs": [],
   "source": [
    "from statsmodels.stats.proportion import binom_test, proportions_ztest"
   ]
  },
  {
   "cell_type": "markdown",
   "id": "ff98f9ef",
   "metadata": {},
   "source": [
    "Try different sample sizes, see how much sample size is necessary to get a p-value of < 0.05"
   ]
  },
  {
   "cell_type": "code",
   "execution_count": 9,
   "id": "dcd8bf6c",
   "metadata": {},
   "outputs": [
    {
     "name": "stdout",
     "output_type": "stream",
     "text": [
      "Sample Size :  10 | avg heads :  0.50 | p-value : 0.62305\n",
      "Sample Size :  20 | avg heads :  0.80 | p-value : 0.00591\n",
      "Sample Size :  30 | avg heads :  0.57 | p-value : 0.29233\n",
      "Sample Size :  40 | avg heads :  0.65 | p-value : 0.04035\n",
      "Sample Size :  50 | avg heads :  0.62 | p-value : 0.05946\n",
      "Sample Size :  60 | avg heads :  0.67 | p-value : 0.00674\n",
      "Sample Size :  70 | avg heads :  0.51 | p-value : 0.45249\n",
      "Sample Size :  80 | avg heads :  0.64 | p-value : 0.00916\n",
      "Sample Size :  90 | avg heads :  0.69 | p-value : 0.00022\n",
      "Sample Size : 100 | avg heads :  0.57 | p-value : 0.09667\n",
      "Sample Size : 110 | avg heads :  0.59 | p-value : 0.03478\n",
      "Sample Size : 120 | avg heads :  0.64 | p-value : 0.00122\n",
      "Sample Size : 130 | avg heads :  0.66 | p-value : 0.00014\n",
      "Sample Size : 140 | avg heads :  0.62 | p-value : 0.00255\n",
      "Sample Size : 150 | avg heads :  0.67 | p-value : 0.00003\n",
      "Sample Size : 160 | avg heads :  0.59 | p-value : 0.01079\n",
      "Sample Size : 170 | avg heads :  0.65 | p-value : 0.00008\n",
      "Sample Size : 180 | avg heads :  0.61 | p-value : 0.00283\n",
      "Sample Size : 190 | avg heads :  0.63 | p-value : 0.00018\n",
      "Sample Size : 200 | avg heads :  0.60 | p-value : 0.00182\n",
      "Sample Size : 210 | avg heads :  0.61 | p-value : 0.00092\n",
      "Sample Size : 220 | avg heads :  0.61 | p-value : 0.00074\n",
      "Sample Size : 230 | avg heads :  0.58 | p-value : 0.00726\n",
      "Sample Size : 240 | avg heads :  0.65 | p-value : 0.00000\n",
      "Sample Size : 250 | avg heads :  0.64 | p-value : 0.00001\n",
      "Sample Size : 260 | avg heads :  0.64 | p-value : 0.00000\n",
      "Sample Size : 270 | avg heads :  0.65 | p-value : 0.00000\n",
      "Sample Size : 280 | avg heads :  0.67 | p-value : 0.00000\n",
      "Sample Size : 290 | avg heads :  0.62 | p-value : 0.00004\n",
      "Sample Size : 300 | avg heads :  0.58 | p-value : 0.00328\n"
     ]
    }
   ],
   "source": [
    "for i in range(10, 310, 10):\n",
    "    coin_toss_for_test = []\n",
    "    for j in range(0,i):\n",
    "        coin_toss_for_test.append(loaded_coin_toss_simulator())\n",
    "    p_value = binom_test(sum(coin_toss_for_test), len(coin_toss_for_test), 0.5, \"larger\")\n",
    "    sample_size = len(coin_toss_for_test)\n",
    "    avg = round(sum(coin_toss_for_test) / len(coin_toss_for_test), 2)\n",
    "    # message = \"Sample Size : \" + str(sample_size) + \" | avg heads : \" + str(avg) + \" | p-value : \" + str(p_value)\n",
    "    # print(message)\n",
    "    print(\"Sample Size : %3d | avg heads : %5.2f | p-value : %5.5f\" % (sample_size, avg, p_value))"
   ]
  },
  {
   "cell_type": "markdown",
   "id": "58665498",
   "metadata": {},
   "source": [
    "What we notice above is that we need to run the test with a minimum sample size in order to generate statistically significant results.\n",
    "\n",
    "There is a chance that we ca get a statistically significant result with a sample smaller than what we determined.\n",
    "\n",
    "However, that does not mean that statistical significance is guaranteed at that sample size.\n",
    "\n",
    "If we run the test again, we may not get a statistically significant result at that sample size again.\n",
    "\n",
    "However, when we pass the sample size threshold we calculated earlier, we do get statistically significant results on a consistent basis.\n",
    "\n",
    "We can prove this by running the above code snippet again."
   ]
  },
  {
   "cell_type": "code",
   "execution_count": null,
   "id": "48a91d06",
   "metadata": {},
   "outputs": [],
   "source": []
  }
 ],
 "metadata": {
  "kernelspec": {
   "display_name": "Python 3",
   "language": "python",
   "name": "python3"
  },
  "language_info": {
   "codemirror_mode": {
    "name": "ipython",
    "version": 3
   },
   "file_extension": ".py",
   "mimetype": "text/x-python",
   "name": "python",
   "nbconvert_exporter": "python",
   "pygments_lexer": "ipython3",
   "version": "3.8.8"
  }
 },
 "nbformat": 4,
 "nbformat_minor": 5
}
